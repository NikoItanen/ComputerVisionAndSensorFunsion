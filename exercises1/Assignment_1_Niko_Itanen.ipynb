{
 "cells": [
  {
   "cell_type": "code",
   "execution_count": 3,
   "metadata": {},
   "outputs": [],
   "source": [
    "import tensorflow as tf\n",
    "import random\n",
    "import os \n",
    "import numpy as np \n",
    "from sklearn.metrics import roc_curve, auc, precision_recall_curve, average_precision_score, confusion_matrix, ConfusionMatrixDisplay\n",
    "import pandas as pd \n",
    "import matplotlib.pyplot as plt"
   ]
  },
  {
   "cell_type": "markdown",
   "metadata": {},
   "source": [
    "### Path system"
   ]
  },
  {
   "cell_type": "code",
   "execution_count": 4,
   "metadata": {},
   "outputs": [
    {
     "name": "stdout",
     "output_type": "stream",
     "text": [
      "[PhysicalDevice(name='/physical_device:GPU:0', device_type='GPU')]\n",
      "[DIR] The directory of the current dataset is c:\\Users\\itane\\Documents\\GitHub\\ComputerVisionAndSensorFunsion\\exercises1\\Datasets\\cookies_vs_chihuahua\n"
     ]
    }
   ],
   "source": [
    "# you need the current working directory NB: works both windows and linux \n",
    "current_working_directory = os.getcwd()\n",
    "current_working_directory = os.path.dirname(current_working_directory)\n",
    "\n",
    "gpus = tf.config.experimental.list_physical_devices('GPU')\n",
    "print(tf.config.list_physical_devices('GPU'))\n",
    "\n",
    "\n",
    "# get the directory where I want to download the dataset\n",
    "path_of_download = os.path.join(*['..', current_working_directory, 'exercises1', 'Datasets', 'cookies_vs_chihuahua'])\n",
    "print(f\"[DIR] The directory of the current dataset is {path_of_download}\")"
   ]
  },
  {
   "cell_type": "markdown",
   "metadata": {},
   "source": [
    "### Dataset function"
   ]
  },
  {
   "cell_type": "code",
   "execution_count": 5,
   "metadata": {},
   "outputs": [],
   "source": [
    "# here let s do some functions that we can re-use also for other assignment\n",
    "def load_the_data_and_the_labels(data_set_path: str, target_size: tuple or None = None):\n",
    "    try:\n",
    "        dataset, labels, name_of_the_labels = list(), list(), list() \n",
    "        # let s loop here and we try to discover how many class we have \n",
    "        for class_number, class_name in enumerate(os.listdir(data_set_path)):\n",
    "            full_path_the_data = os.path.join(data_set_path, class_name)\n",
    "            print(f\"[WALK] I am walking into {full_path_the_data}\")\n",
    "            \n",
    "            # add the list to nam _list\n",
    "            name_of_the_labels.append(class_name)\n",
    "            \n",
    "            for single_image in os.listdir(f\"{full_path_the_data}\"):\n",
    "                full_path_to_image = os.path.join(*[full_path_the_data, single_image])\n",
    "                \n",
    "                # add the class number \n",
    "                labels.append(class_number)\n",
    "                \n",
    "                if target_size is None:\n",
    "                    # let s load the image \n",
    "                    image = tf.keras.utils.load_img(full_path_to_image)\n",
    "                else:\n",
    "                    image = tf.keras.utils.load_img(full_path_to_image, target_size=target_size)\n",
    "                \n",
    "                # transform PIL object in image                    \n",
    "                image = tf.keras.utils.img_to_array(image)\n",
    "                \n",
    "                # add the image to the ds list \n",
    "                dataset.append(image)\n",
    "                \n",
    "        return np.array(dataset, dtype='uint8'), np.array(labels, dtype='int'), name_of_the_labels\n",
    "    except Exception as ex:\n",
    "        print(f\"[EXCEPTION] load the data and the labels throws exceptions {ex}\")\n",
    "        return None, None, None"
   ]
  },
  {
   "cell_type": "markdown",
   "metadata": {},
   "source": [
    "### Load train set"
   ]
  },
  {
   "cell_type": "markdown",
   "metadata": {},
   "source": [
    "Here we want to load the training sets X_train and y_train. Here I resize these images to 224x224 pixels, which helps with normalization. It's also a popular size in many pre-calibrated large datasets, such as ImageNet. This size also gives some computational advantages as this size is not too large for processing, but it is still good for displaying the features needed."
   ]
  },
  {
   "cell_type": "code",
   "execution_count": 6,
   "metadata": {},
   "outputs": [
    {
     "name": "stdout",
     "output_type": "stream",
     "text": [
      "[WALK] I am walking into c:\\Users\\itane\\Documents\\GitHub\\ComputerVisionAndSensorFunsion\\exercises1\\Datasets\\cookies_vs_chihuahua\\train\\chihuahua\n",
      "[WALK] I am walking into c:\\Users\\itane\\Documents\\GitHub\\ComputerVisionAndSensorFunsion\\exercises1\\Datasets\\cookies_vs_chihuahua\\train\\muffin\n",
      "The training set has shape (4733, 224, 224, 3) and the labels shape (4733,)\n"
     ]
    }
   ],
   "source": [
    "# Load the training set\n",
    "training_set_path = os.path.join(path_of_download, 'train')\n",
    "X_train, y_train, name_of_the_labels = load_the_data_and_the_labels(training_set_path, target_size=(224, 224))\n",
    "print(f\"The training set has shape {X_train.shape} and the labels shape {y_train.shape}\")"
   ]
  },
  {
   "cell_type": "markdown",
   "metadata": {},
   "source": [
    "### Load test set"
   ]
  },
  {
   "cell_type": "markdown",
   "metadata": {},
   "source": [
    "Now let's do the same for the test set. I also resize these images to 224x224 pixels."
   ]
  },
  {
   "cell_type": "code",
   "execution_count": 7,
   "metadata": {},
   "outputs": [
    {
     "name": "stdout",
     "output_type": "stream",
     "text": [
      "[WALK] I am walking into c:\\Users\\itane\\Documents\\GitHub\\ComputerVisionAndSensorFunsion\\exercises1\\Datasets\\cookies_vs_chihuahua\\test\\chihuahua\n",
      "[WALK] I am walking into c:\\Users\\itane\\Documents\\GitHub\\ComputerVisionAndSensorFunsion\\exercises1\\Datasets\\cookies_vs_chihuahua\\test\\muffin\n",
      "The test set has shape (1184, 224, 224, 3) and the labels shape (1184,)\n"
     ]
    }
   ],
   "source": [
    "# Load the test set\n",
    "test_set_path = os.path.join(path_of_download, 'test')\n",
    "X_test, y_test, _ = load_the_data_and_the_labels(test_set_path, target_size=(224, 224))\n",
    "print(f\"The test set has shape {X_test.shape} and the labels shape {y_test.shape}\")"
   ]
  },
  {
   "cell_type": "markdown",
   "metadata": {},
   "source": [
    "### Normalize the data"
   ]
  },
  {
   "cell_type": "markdown",
   "metadata": {},
   "source": [
    "Now we want to normalize the data. Because normalization ensures that each feature has an equal impact on the performance of the model, it is an essential part of the whole data processing. Especially now when we are working with multilayer neural networks, normalization becomes even more important as gradients are calculated and updated.\n",
    "\n",
    "The value 255 comes from the pixel values, where the images represents the intensity of colour in each pixel of the image.\n",
    "\n",
    "For example, a value of 0 represents black with no light intensity. On the other hand, a value of 255 represents white, where light intensity is at its maximum. When we divide our data set by 255, all light intensity values will be somewhere between 0 and 1."
   ]
  },
  {
   "cell_type": "code",
   "execution_count": 8,
   "metadata": {},
   "outputs": [],
   "source": [
    "X_train = X_train / 255.0\n",
    "X_test = X_test / 255.0"
   ]
  },
  {
   "cell_type": "markdown",
   "metadata": {},
   "source": [
    "### Create a CNN with the following characteristics:\n",
    "a.\tInput layer\n",
    "b.\tData augmentation, with random flip and random rotation.\n",
    "c.\tTwo hidden layers each composed with the following characteristics: 16 conv2d units, max pooling 2d and batch normalization, the second one should have 24 conv2d units max pooling 2d and batch normalization. \n",
    "d.\tAfter this, add a flatten layer and a dense layer with 8 units\n",
    "e.\tAdd the final classifier (a  dense layer) with the correct number of output and activation\n"
   ]
  },
  {
   "cell_type": "markdown",
   "metadata": {},
   "source": [
    "Now let's create our CNN model. To begin, we want to start by creating an input layer. This layer defines the format of the input data we have and what the model will accept."
   ]
  },
  {
   "cell_type": "code",
   "execution_count": 9,
   "metadata": {},
   "outputs": [],
   "source": [
    "# Define the input layer\n",
    "input_layer = tf.keras.layers.Input(shape=(224, 224, 3))"
   ]
  },
  {
   "cell_type": "markdown",
   "metadata": {},
   "source": [
    "Now we apply some data augmentation where we add random flips and rotations to the images. This adds variation to the trained data, giving our model more different features to learn. The diversity in the dataset allows our model to perform better on real-world data, where image positions, rotations and orientation may also change."
   ]
  },
  {
   "cell_type": "code",
   "execution_count": 10,
   "metadata": {},
   "outputs": [],
   "source": [
    "# Apply some augmentation to the model.\n",
    "data_augmentation = tf.keras.Sequential([\n",
    "    tf.keras.layers.RandomFlip(\"horizontal\"), # Here we define the random flip to image be horizontal\n",
    "    tf.keras.layers.RandomRotation(0.1) # 0.1 = 10% of 360 degrees, so image will rotate randomly between 0 and 36 degrees\n",
    "])"
   ]
  },
  {
   "cell_type": "markdown",
   "metadata": {},
   "source": [
    "Now we create two hidden layers which will be added to the model, one with 16 Conv2D units and the other with 24 Conv2D units. These units are the core building blocks of CNN models, which apply a number of filters to the input image to extract various patterns such as edges, textures and shapes from the images.\n",
    "\n",
    "Both layers have ReLU activation, which helps the model learn more complex representations faster. ReLU (Rectified Linear Unit) is a function that adds non-linearity to the model. This function gives a direct output if it is positive, otherwise it gives a zero output.\n",
    "\n",
    "Then MaxPooling2D is added, with a pool size of 2x2, which reduces the dimensions but preserves all the important features. This operation reduces the computational effort as a down-sampling operator and helps the model to prevent overfitting by making the model more invariant to small translations and distortions of the images.\n",
    "\n",
    "Finally, we add Batch Normalization to both layers to help prevent interval covariance shifts and ultimately speed up training. This happens because the mean of each layer is zero and the standard deviation is one in each batch."
   ]
  },
  {
   "cell_type": "code",
   "execution_count": 11,
   "metadata": {},
   "outputs": [],
   "source": [
    "# First hidden layer\n",
    "conv2d_1 = tf.keras.layers.Conv2D(16, (3, 3), activation='relu', padding='same')(input_layer)\n",
    "conv2d_1 = tf.keras.layers.MaxPooling2D((2, 2))(conv2d_1) # Here we define the max pooling 2d with a 2x2 pool size\n",
    "conv2d_1 = tf.keras.layers.BatchNormalization()(conv2d_1) # Here we define the batch normalization\n",
    "\n",
    "# Second hidden layers\n",
    "conv2d_2 = tf.keras.layers.Conv2D(24, (3, 3), activation='relu', padding='same')(conv2d_1)\n",
    "conv2d_2 = tf.keras.layers.MaxPooling2D((2, 2))(conv2d_2) # Same max pooling as before\n",
    "conv2d_2 = tf.keras.layers.BatchNormalization()(conv2d_2) # Same batch normalization as before"
   ]
  },
  {
   "cell_type": "markdown",
   "metadata": {},
   "source": [
    "Now we have created the convolution layers and are creating a Flatten layer to convert two-dimensional features into a one-dimensional vector. In this way, we ensure that our input is suitable for a Dense layer that requires a one-dimensional input.\n",
    "\n",
    "Once the Flatten layer is created, we add a 64-unit dense layer with ReLU activation. This layer is connected to a layer where a neuron is connected to every neuron before the final classification."
   ]
  },
  {
   "cell_type": "code",
   "execution_count": 12,
   "metadata": {},
   "outputs": [],
   "source": [
    "flatten = tf.keras.layers.Flatten()(conv2d_2)\n",
    "dense_layer = tf.keras.layers.Dense(64, activation='relu')(flatten) # Dense layer with 64 neurons."
   ]
  },
  {
   "cell_type": "markdown",
   "metadata": {},
   "source": [
    "Finally, we add a final classifier, which concludes the result of the model. We create a final layer called output_layer, which is a dense layer with a sigmoidal activation function. The sigmoid function is suitable here because we have a value between a chihuahua and a muffin or between 0 and 1, which can be interpreted as a probability."
   ]
  },
  {
   "cell_type": "code",
   "execution_count": 13,
   "metadata": {},
   "outputs": [],
   "source": [
    "# num_units = len(name_of_the_labels)\n",
    "output_layer = tf.keras.layers.Dense(1, activation='sigmoid')(dense_layer) # we use sigmoid activation to ensure the outputs are binary values."
   ]
  },
  {
   "cell_type": "markdown",
   "metadata": {},
   "source": [
    "### Compile the model using Adam "
   ]
  },
  {
   "cell_type": "markdown",
   "metadata": {},
   "source": [
    "Now it's time to put all the layers together and create our model. First, we just define the model and its input and output layers. Then we want to assemble the model and use the Adam optimizer as instructed. We want to use the binary_crossentropy function as the loss function because we have a binary output value. I also added an accuracy metric so we can see how the model learns during training.\n",
    "\n",
    "Finally, I also added a summary table so that we can see that all the layers we created actually exist and how many parameters each contains."
   ]
  },
  {
   "cell_type": "code",
   "execution_count": 14,
   "metadata": {},
   "outputs": [
    {
     "name": "stdout",
     "output_type": "stream",
     "text": [
      "Model: \"model\"\n",
      "_________________________________________________________________\n",
      " Layer (type)                Output Shape              Param #   \n",
      "=================================================================\n",
      " input_1 (InputLayer)        [(None, 224, 224, 3)]     0         \n",
      "                                                                 \n",
      " conv2d (Conv2D)             (None, 224, 224, 16)      448       \n",
      "                                                                 \n",
      " max_pooling2d (MaxPooling2D  (None, 112, 112, 16)     0         \n",
      " )                                                               \n",
      "                                                                 \n",
      " batch_normalization (BatchN  (None, 112, 112, 16)     64        \n",
      " ormalization)                                                   \n",
      "                                                                 \n",
      " conv2d_1 (Conv2D)           (None, 112, 112, 24)      3480      \n",
      "                                                                 \n",
      " max_pooling2d_1 (MaxPooling  (None, 56, 56, 24)       0         \n",
      " 2D)                                                             \n",
      "                                                                 \n",
      " batch_normalization_1 (Batc  (None, 56, 56, 24)       96        \n",
      " hNormalization)                                                 \n",
      "                                                                 \n",
      " flatten (Flatten)           (None, 75264)             0         \n",
      "                                                                 \n",
      " dense (Dense)               (None, 64)                4816960   \n",
      "                                                                 \n",
      " dense_1 (Dense)             (None, 1)                 65        \n",
      "                                                                 \n",
      "=================================================================\n",
      "Total params: 4,821,113\n",
      "Trainable params: 4,821,033\n",
      "Non-trainable params: 80\n",
      "_________________________________________________________________\n"
     ]
    }
   ],
   "source": [
    "# Creat the model\n",
    "model = tf.keras.Model(inputs=input_layer, outputs=output_layer)\n",
    "\n",
    "# Compile the model\n",
    "model.compile(optimizer='adam',\n",
    "              loss='binary_crossentropy',\n",
    "              metrics=['accuracy'])\n",
    "\n",
    "# Summary of the model\n",
    "model.summary()"
   ]
  },
  {
   "cell_type": "markdown",
   "metadata": {},
   "source": [
    "### Train the model with batch size 64 and epochs of 30"
   ]
  },
  {
   "cell_type": "markdown",
   "metadata": {},
   "source": [
    "Now we do the training operation. We use 64 batch sizes and 30 epochs as instructed. The batch size determines how many samples we process before updating the weights of the model. Epochs, on the other hand, determine how many times we run the model through the entire dataset."
   ]
  },
  {
   "cell_type": "code",
   "execution_count": 15,
   "metadata": {},
   "outputs": [
    {
     "name": "stdout",
     "output_type": "stream",
     "text": [
      "Epoch 1/30\n",
      "74/74 [==============================] - 10s 53ms/step - loss: 1.0522 - accuracy: 0.7788\n",
      "Epoch 2/30\n",
      "74/74 [==============================] - 3s 45ms/step - loss: 0.2607 - accuracy: 0.8901\n",
      "Epoch 3/30\n",
      "74/74 [==============================] - 3s 44ms/step - loss: 0.1720 - accuracy: 0.9318\n",
      "Epoch 4/30\n",
      "74/74 [==============================] - 3s 44ms/step - loss: 0.1005 - accuracy: 0.9637\n",
      "Epoch 5/30\n",
      "74/74 [==============================] - 3s 44ms/step - loss: 0.0446 - accuracy: 0.9846\n",
      "Epoch 6/30\n",
      "74/74 [==============================] - 3s 44ms/step - loss: 0.0201 - accuracy: 0.9947\n",
      "Epoch 7/30\n",
      "74/74 [==============================] - 3s 44ms/step - loss: 0.0116 - accuracy: 0.9973\n",
      "Epoch 8/30\n",
      "74/74 [==============================] - 4s 49ms/step - loss: 0.0144 - accuracy: 0.9962\n",
      "Epoch 9/30\n",
      "74/74 [==============================] - 4s 51ms/step - loss: 0.0060 - accuracy: 0.9989\n",
      "Epoch 10/30\n",
      "74/74 [==============================] - 4s 52ms/step - loss: 0.0040 - accuracy: 0.9996\n",
      "Epoch 11/30\n",
      "74/74 [==============================] - 4s 49ms/step - loss: 0.0025 - accuracy: 0.9996\n",
      "Epoch 12/30\n",
      "74/74 [==============================] - 4s 51ms/step - loss: 0.0024 - accuracy: 0.9994\n",
      "Epoch 13/30\n",
      "74/74 [==============================] - 4s 51ms/step - loss: 0.0018 - accuracy: 0.9998\n",
      "Epoch 14/30\n",
      "74/74 [==============================] - 3s 47ms/step - loss: 0.0017 - accuracy: 0.9998\n",
      "Epoch 15/30\n",
      "74/74 [==============================] - 3s 46ms/step - loss: 0.0014 - accuracy: 0.9998\n",
      "Epoch 16/30\n",
      "74/74 [==============================] - 3s 47ms/step - loss: 0.0014 - accuracy: 0.9998\n",
      "Epoch 17/30\n",
      "74/74 [==============================] - 3s 44ms/step - loss: 0.0012 - accuracy: 0.9998\n",
      "Epoch 18/30\n",
      "74/74 [==============================] - 3s 43ms/step - loss: 0.0011 - accuracy: 0.9998\n",
      "Epoch 19/30\n",
      "74/74 [==============================] - 3s 43ms/step - loss: 0.0011 - accuracy: 0.9998\n",
      "Epoch 20/30\n",
      "74/74 [==============================] - 3s 43ms/step - loss: 0.0011 - accuracy: 0.9998\n",
      "Epoch 21/30\n",
      "74/74 [==============================] - 3s 42ms/step - loss: 0.0011 - accuracy: 0.9998\n",
      "Epoch 22/30\n",
      "74/74 [==============================] - 3s 44ms/step - loss: 0.0011 - accuracy: 0.9998\n",
      "Epoch 23/30\n",
      "74/74 [==============================] - 3s 43ms/step - loss: 0.0010 - accuracy: 0.9998\n",
      "Epoch 24/30\n",
      "74/74 [==============================] - 3s 44ms/step - loss: 9.2947e-04 - accuracy: 0.9998\n",
      "Epoch 25/30\n",
      "74/74 [==============================] - 3s 43ms/step - loss: 0.0073 - accuracy: 0.9985\n",
      "Epoch 26/30\n",
      "74/74 [==============================] - 3s 42ms/step - loss: 0.3127 - accuracy: 0.9149\n",
      "Epoch 27/30\n",
      "74/74 [==============================] - 3s 43ms/step - loss: 0.1867 - accuracy: 0.9377\n",
      "Epoch 28/30\n",
      "74/74 [==============================] - 3s 43ms/step - loss: 0.0801 - accuracy: 0.9715\n",
      "Epoch 29/30\n",
      "74/74 [==============================] - 3s 42ms/step - loss: 0.0246 - accuracy: 0.9896\n",
      "Epoch 30/30\n",
      "74/74 [==============================] - 3s 43ms/step - loss: 0.0076 - accuracy: 0.9985\n"
     ]
    }
   ],
   "source": [
    "# Train the model\n",
    "history = model.fit(X_train, y_train, batch_size=64, epochs=30)"
   ]
  },
  {
   "cell_type": "markdown",
   "metadata": {},
   "source": [
    "### Evaluate the model and report the accuracy."
   ]
  },
  {
   "cell_type": "markdown",
   "metadata": {},
   "source": [
    "Now when the model has been trained. We can start to evaluate its performance with test data. Here we want to use our X_test and y_test data to return the loss and accuracy of the model."
   ]
  },
  {
   "cell_type": "code",
   "execution_count": 16,
   "metadata": {},
   "outputs": [
    {
     "name": "stdout",
     "output_type": "stream",
     "text": [
      "37/37 [==============================] - 1s 9ms/step - loss: 0.6217 - accuracy: 0.8877\n",
      "Test loss: 0.6217105984687805\n",
      "Test accuracy: 0.8876689076423645\n"
     ]
    }
   ],
   "source": [
    "# Evaluate the model with the test set.\n",
    "test_loss, test_accuracy = model.evaluate(X_test, y_test)\n",
    "print(f\"Test loss: {test_loss}\")\n",
    "print(f\"Test accuracy: {test_accuracy}\")"
   ]
  },
  {
   "cell_type": "markdown",
   "metadata": {},
   "source": [
    "Our test result loss of 0.583.. is pretty high, which may indicate that there may be an overfitting. This means that we want to tune the hyperparameters of the model a bit.\n",
    "\n",
    "However, the accuracy of 0.887... is quite good, indicating that the model performs well on unseen data.\n",
    "\n",
    "Overall, I think we can still achieve better performance by changing the hyperparameters."
   ]
  },
  {
   "cell_type": "markdown",
   "metadata": {},
   "source": [
    "#### Make prediction with the test set and use a threshold of 0.5 as boundaries decision between the classes. "
   ]
  },
  {
   "cell_type": "markdown",
   "metadata": {},
   "source": [
    "Next, we make some predictions from the test set. As the instructions say, we want to use a threshold of 0.5 for the classification, so we use that. Then we print out some predictions to see in practice what the predictions are."
   ]
  },
  {
   "cell_type": "code",
   "execution_count": 17,
   "metadata": {},
   "outputs": [
    {
     "name": "stdout",
     "output_type": "stream",
     "text": [
      "37/37 [==============================] - 0s 8ms/step\n",
      "[[0]\n",
      " [0]\n",
      " [0]\n",
      " [0]\n",
      " [1]\n",
      " [0]\n",
      " [0]\n",
      " [1]\n",
      " [0]\n",
      " [0]]\n"
     ]
    }
   ],
   "source": [
    "# Let's make predictions on the test set now\n",
    "predictions = model.predict(X_test)\n",
    "\n",
    "# We want to apply the threshold value of 0.5 for classification\n",
    "predictions_binary = (predictions > 0.5).astype(int)\n",
    "\n",
    "# Now print some of the predictions to see practical results on our eyes.\n",
    "print(predictions_binary[:10])"
   ]
  },
  {
   "cell_type": "markdown",
   "metadata": {},
   "source": [
    "As we can see, the result is either 0 or 1, which seems right for the binary classification problem. Since we use a sigmoid function in the output layer, the predictions are probabilities between 0 and 1, so we just use our threshold of 0.5, which means that values above 0.5 are classified as 1 and values below 0.5 are classified as 0."
   ]
  },
  {
   "cell_type": "markdown",
   "metadata": {},
   "source": [
    "### Plot confusion matrix and ROC curve"
   ]
  },
  {
   "cell_type": "markdown",
   "metadata": {},
   "source": [
    "Now we want to plot the model's confusion matrix. I will use the ConfusionMatrixDisplay function from scikit-learn and plot that with Matplotlib.\n",
    "\n",
    "Let's also define the True Positive Rate (FPR), True Positive Rate (TPR) and the threshold variable. Then we can use scitkit-learn's roc_curve function to create the ROC curve.\n",
    "\n",
    "Finally, we plot the ROC curve."
   ]
  },
  {
   "cell_type": "code",
   "execution_count": 18,
   "metadata": {},
   "outputs": [
    {
     "data": {
      "image/png": "[encoded data removed]",
      "text/plain": [
       "<Figure size 640x480 with 2 Axes>"
      ]
     },
     "metadata": {},
     "output_type": "display_data"
    },
    {
     "data": {
      "image/png": "[encoded data removed]",
      "text/plain": [
       "<Figure size 640x480 with 1 Axes>"
      ]
     },
     "metadata": {},
     "output_type": "display_data"
    }
   ],
   "source": [
    "# Now we want to plot the confusions matrix of the model performance\n",
    "conf_matrix = confusion_matrix(y_test, predictions_binary)\n",
    "display = ConfusionMatrixDisplay(conf_matrix)\n",
    "display.plot(cmap='Blues')\n",
    "plt.title(\"Model's Confusion Matrix\")\n",
    "plt.show()\n",
    "\n",
    "# Now we want to plot the ROC curve.\n",
    "# First, we need to calculate the False Positive Rate (FPR) and True Positive Rate (TPR).\n",
    "fpr, tpr, thresholds = roc_curve(y_test, predictions)\n",
    "\n",
    "# Now we can plot the ROC curve\n",
    "plt.figure()\n",
    "plt.plot(fpr, tpr, color='darkorange', lw=2, label='ROC curve (area = %0.2f)' % auc(fpr, tpr)) # Here we can calculate the AUC also.\n",
    "plt.plot([0, 1], [0, 1], color='navy', lw=2, linestyle='--')\n",
    "plt.xlabel('False Positive Rate (FPR)')\n",
    "plt.ylabel('True Positive Rate (TPR)')\n",
    "plt.title('Receiver Operating Characteristic (ROC)')\n",
    "plt.legend(loc=\"lower right\")\n",
    "plt.show()"
   ]
  },
  {
   "cell_type": "markdown",
   "metadata": {},
   "source": [
    "Now we have both plots Confusion Matrix and ROC curve. The Confusion Matrix shows the following:\n",
    "\n",
    "- True Positive (TP): 480\n",
    "- False Positive (FP): 64\n",
    "- True Negative (TN): 570\n",
    "- False Negative (FN): 70\n",
    "\n",
    "These values indicate that the classification is mostly correctly predicted.\n",
    "\n",
    "Our ROC curve also shows nice upward curve towards top-left, which is good sign of the model's performace."
   ]
  },
  {
   "cell_type": "markdown",
   "metadata": {},
   "source": [
    "### Calcualte best testhold\n",
    "\n",
    "Now we want to find the best threshold for the model. This can be done by maximizing the difference between True Positive Rate and False Positive Rate. Then we just want to choose a threshold where the model achieves a high recall value while minimizing false positives."
   ]
  },
  {
   "cell_type": "code",
   "execution_count": 19,
   "metadata": {},
   "outputs": [],
   "source": [
    "# Find the optimal threshold value by maximizing the TPR - FPR\n",
    "optimal_threshold_index = np.argmax(tpr - fpr)\n",
    "optimal_threshold = thresholds[optimal_threshold_index]\n",
    "\n",
    "# Now we can make the predictions by using the optimal threshold.\n",
    "predictions_binary_optimal = (predictions > optimal_threshold).astype(int)"
   ]
  },
  {
   "cell_type": "markdown",
   "metadata": {},
   "source": [
    "### Plot confusion matrix "
   ]
  },
  {
   "cell_type": "markdown",
   "metadata": {},
   "source": [
    "Now, finally we can plot the confusion matrix with the best optimal threshold value."
   ]
  },
  {
   "cell_type": "code",
   "execution_count": 20,
   "metadata": {},
   "outputs": [
    {
     "data": {
      "image/png": "[encoded data removed]",
      "text/plain": [
       "<Figure size 640x480 with 2 Axes>"
      ]
     },
     "metadata": {},
     "output_type": "display_data"
    }
   ],
   "source": [
    "# Plot the confusion matrix again\n",
    "conf_matrix_optimal = confusion_matrix(y_test, predictions_binary_optimal)\n",
    "display = ConfusionMatrixDisplay(conf_matrix_optimal)\n",
    "display.plot(cmap='Blues')\n",
    "plt.title(f'Confusion Matrix with Optimal Threshold of {optimal_threshold}')\n",
    "plt.show()"
   ]
  },
  {
   "cell_type": "markdown",
   "metadata": {},
   "source": [
    "As we can see, we got higher values of correct predictions. Also, our threshold decreased to 0.409.., which means that our model is now little bit lesser selective in classifying positive cases.\n",
    "\n",
    "- True Positive (TP): 491\n",
    "- False Positive (FP): 53\n",
    "- True Negative (TN): 569\n",
    "- False Negative (FN): 71\n",
    "\n",
    "With optimizing the threshold value, we reduced false positive cases, while still keeping a nice number of true positive cases. Overall this mean that our balance between sensitivtity has improved."
   ]
  }
 ],
 "metadata": {
  "kernelspec": {
   "display_name": "py310",
   "language": "python",
   "name": "python3"
  },
  "language_info": {
   "codemirror_mode": {
    "name": "ipython",
    "version": 3
   },
   "file_extension": ".py",
   "mimetype": "text/x-python",
   "name": "python",
   "nbconvert_exporter": "python",
   "pygments_lexer": "ipython3",
   "version": "3.10.16"
  }
 },
 "nbformat": 4,
 "nbformat_minor": 4
}
